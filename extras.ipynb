{
 "cells": [
  {
   "cell_type": "code",
   "execution_count": null,
   "metadata": {
    "vscode": {
     "languageId": "plaintext"
    }
   },
   "outputs": [],
   "source": [
    "import seaborn as sns\n",
    "import matplotlib.pyplot as plt\n",
    "\n",
    "# Distribution of trip distances\n",
    "sns.histplot(data['trip_distance'], bins=30, kde=True)\n",
    "plt.title('Distribution of Trip Distances')\n",
    "plt.show()\n",
    "\n",
    "# Boxplot for total_amount\n",
    "sns.boxplot(x=data['total_amount'])\n",
    "plt.title('Boxplot of Total Amount')\n",
    "plt.show()\n"
   ]
  },
  {
   "cell_type": "code",
   "execution_count": null,
   "metadata": {
    "vscode": {
     "languageId": "plaintext"
    }
   },
   "outputs": [],
   "source": [
    "import seaborn as sns\n",
    "import matplotlib.pyplot as plt\n",
    "\n",
    "sns.boxplot(x='VendorID', y='trip_duration', data=df)\n",
    "plt.title(\"Relationship Between VendorID and Trip Duration\")\n",
    "plt.show()\n",
    "\n",
    "sns.boxplot(x='RatecodeID', y='trip_duration', data=df)\n",
    "plt.title(\"Relationship Between RatecodeID and Trip Duration\")\n",
    "plt.show()\n"
   ]
  },
  {
   "cell_type": "code",
   "execution_count": null,
   "metadata": {
    "vscode": {
     "languageId": "plaintext"
    }
   },
   "outputs": [],
   "source": [
    "from sklearn.preprocessing import OneHotEncoder\n",
    "\n",
    "encoder= OneHotEncoder()\n",
    "#We are encoding these despite them being numerical is becasue they represent the labels or the group so it is better to encode them \n",
    "# encoder = OneHotEncoder(sparse=False, handle_unknown='ignore')\n",
    "\n",
    "\n",
    "rate_encoded = encoder.fit_transform(df[['RatecodeID']])\n",
    "# Convert into dense matrix as Onehotencoding produces sparse mmatrix\n",
    "rate_encoded= rate_encoded.toarray()\n",
    "rate_encoded_columns = encoder.get_feature_names_out(['RatecodeID'])\n",
    "\n",
    "\n",
    "# print(len(rate_encoded_columns))\n",
    "\n",
    "vendor_encoded = encoder.fit_transform(df[['VendorID']])\n",
    "vendor_encoded=vendor_encoded.toarray()\n",
    "# print(vendor_encoded.shape)\n",
    "vendor_encoded_columns = encoder.get_feature_names_out(['VendorID'])\n",
    "\n",
    "rate_encoded_df = pd.DataFrame(rate_encoded, columns=rate_encoded_columns)\n",
    "vendor_encoded_df = pd.DataFrame(vendor_encoded, columns=vendor_encoded_columns)\n",
    "\n",
    "\n",
    "\n",
    "df= pd.concat([df,rate_encoded_df,vendor_encoded_df], axis=1)\n"
   ]
  },
  {
   "cell_type": "code",
   "execution_count": null,
   "metadata": {
    "vscode": {
     "languageId": "plaintext"
    }
   },
   "outputs": [],
   "source": [
    "sns.set_style(\"whitegrid\")\n",
    "\n",
    "# Plot 1: Boxplot of fare_amount for airport and non-airport trips\n",
    "plt.figure(figsize=(10, 6))\n",
    "sns.boxplot(x='is_airport_trip', y='fare_amount', data=df)\n",
    "plt.title('Fare Amount Distribution for Airport vs. Non-Airport Trips', fontsize=16)\n",
    "plt.xticks([0, 1], ['Non-Airport Trips', 'Airport Trips'], fontsize=12)\n",
    "plt.xlabel('Trip Type', fontsize=14)\n",
    "plt.ylabel('Fare Amount ($)', fontsize=14)\n",
    "plt.ylim(0, 500)  # Adjust if necessary to limit extreme outliers\n",
    "plt.show()"
   ]
  },
  {
   "cell_type": "code",
   "execution_count": null,
   "metadata": {
    "vscode": {
     "languageId": "plaintext"
    }
   },
   "outputs": [],
   "source": [
    "# Plot 2: Histogram of fare_amount for airport and non-airport trips\n",
    "plt.figure(figsize=(12, 6))\n",
    "sns.histplot(data=df, x='fare_amount', hue='is_airport_trip', bins=50, kde=True, palette='Set2')\n",
    "plt.title('Histogram of Fare Amount for Airport vs. Non-Airport Trips', fontsize=16)\n",
    "plt.xlabel('Fare Amount ($)', fontsize=14)\n",
    "plt.ylabel('Frequency', fontsize=14)\n",
    "plt.legend(['Non-Airport Trips', 'Airport Trips'], fontsize=12)\n",
    "plt.xlim(0, 200)  # Adjust limits to focus on relevant range\n",
    "plt.show()"
   ]
  },
  {
   "cell_type": "code",
   "execution_count": null,
   "metadata": {
    "vscode": {
     "languageId": "plaintext"
    }
   },
   "outputs": [],
   "source": [
    "# Plot 3: Boxplot of trip_distance for airport and non-airport trips\n",
    "plt.figure(figsize=(10, 6))\n",
    "sns.boxplot(x='is_airport_trip', y='trip_distance', data=df)\n",
    "plt.title('Trip Distance Distribution for Airport vs. Non-Airport Trips', fontsize=16)\n",
    "plt.xticks([0, 1], ['Non-Airport Trips', 'Airport Trips'], fontsize=12)\n",
    "plt.xlabel('Trip Type', fontsize=14)\n",
    "plt.ylabel('Trip Distance (miles)', fontsize=14)\n",
    "plt.ylim(0, 50)  # Adjust if necessary to focus on typical trips\n",
    "plt.show()\n",
    "\n",
    "\n"
   ]
  },
  {
   "cell_type": "code",
   "execution_count": null,
   "metadata": {
    "vscode": {
     "languageId": "plaintext"
    }
   },
   "outputs": [],
   "source": [
    "# Plot 4: Histogram of trip_distance for airport and non-airport trips\n",
    "plt.figure(figsize=(12, 6))\n",
    "sns.histplot(data=df, x='trip_distance', hue='is_airport_trip', bins=50, kde=True, palette='Set1')\n",
    "plt.title('Histogram of Trip Distance for Airport vs. Non-Airport Trips', fontsize=16)\n",
    "plt.xlabel('Trip Distance (miles)', fontsize=14)\n",
    "plt.ylabel('Frequency', fontsize=14)\n",
    "plt.legend(['Non-Airport Trips', 'Airport Trips'], fontsize=12)\n",
    "plt.xlim(0, 50)  # Adjust limits to focus on typical trip distances\n",
    "plt.show()\n",
    "\n"
   ]
  },
  {
   "cell_type": "code",
   "execution_count": null,
   "metadata": {
    "vscode": {
     "languageId": "plaintext"
    }
   },
   "outputs": [],
   "source": [
    "# Plot distribution of total_amount\n",
    "plt.figure(figsize=(10, 6))\n",
    "sns.histplot(df['total_amount'], bins=100, kde=True)\n",
    "plt.title('Total Amount Distribution', fontsize=16)\n",
    "plt.xlabel('Total Amount ($)', fontsize=14)\n",
    "plt.ylabel('Frequency', fontsize=14)\n",
    "plt.xlim(-50, 100)  # Focus on a reasonable range\n",
    "plt.show()\n"
   ]
  },
  {
   "cell_type": "code",
   "execution_count": null,
   "metadata": {
    "vscode": {
     "languageId": "plaintext"
    }
   },
   "outputs": [],
   "source": [
    "# Check how other columns behave with refunds (negative total_amount)\n",
    "refunds = df[df['is_refund'] == 1]\n",
    "\n",
    "# Get descriptive statistics for refunds\n",
    "refunds.describe()\n",
    "\n",
    "# Optionally, visualize the correlation of refund transactions with other columns\n",
    "import seaborn as sns\n",
    "plt.figure(figsize=(10, 6))\n",
    "sns.heatmap(refunds.corr(), annot=True, cmap='coolwarm', fmt='.2f')\n",
    "plt.title(\"Correlation Matrix of Refund Transactions\", fontsize=16)\n",
    "plt.show()"
   ]
  },
  {
   "cell_type": "code",
   "execution_count": null,
   "metadata": {
    "vscode": {
     "languageId": "plaintext"
    }
   },
   "outputs": [],
   "source": [
    "import seaborn as sns\n",
    "import matplotlib.pyplot as plt\n",
    "\n",
    "# Scatterplot of total_amount vs fare_amount\n",
    "plt.figure(figsize=(8, 6))\n",
    "sns.scatterplot(x='fare_amount', y='total_amount', data=df, alpha=0.5)\n",
    "plt.title('Total Amount vs Fare Amount', fontsize=16)\n",
    "plt.xlabel('Fare Amount ($)', fontsize=14)\n",
    "plt.ylabel('Total Amount ($)', fontsize=14)\n",
    "plt.show()\n",
    "\n",
    "# Pairplot to visualize correlations\n",
    "sns.pairplot(df[['fare_amount', 'trip_distance', 'Airport_fee', 'total_amount']], diag_kind='kde')\n",
    "plt.show()\n"
   ]
  }
 ],
 "metadata": {
  "language_info": {
   "name": "python"
  }
 },
 "nbformat": 4,
 "nbformat_minor": 2
}
